{
 "cells": [
  {
   "cell_type": "code",
   "execution_count": 25,
   "metadata": {
    "collapsed": true,
    "ExecuteTime": {
     "end_time": "2023-06-01T10:04:49.047454719Z",
     "start_time": "2023-06-01T10:04:49.016322650Z"
    }
   },
   "outputs": [],
   "source": [
    "import numpy as np\n",
    "import matplotlib.pyplot as plt\n",
    "\n",
    "from music import *\n",
    "from matched_beamforming import *\n",
    "from utils import *\n",
    "from flexibeam import *"
   ]
  },
  {
   "cell_type": "markdown",
   "metadata": {
    "collapsed": false
   },
   "source": [
    "## Loading data"
   ]
  },
  {
   "cell_type": "code",
   "execution_count": 26,
   "metadata": {
    "collapsed": false,
    "ExecuteTime": {
     "end_time": "2023-06-01T10:04:49.100971803Z",
     "start_time": "2023-06-01T10:04:49.026499073Z"
    }
   },
   "outputs": [],
   "source": [
    "real_data_folder = \"../data/\"\n",
    "real_data_1 = real_data_folder + \"data_1.npz\"\n",
    "real_data_2 = real_data_folder + \"data_2.npz\""
   ]
  },
  {
   "cell_type": "code",
   "execution_count": 27,
   "metadata": {
    "collapsed": false
   },
   "outputs": [],
   "source": [
    "def load_data(data_str):\n",
    "    npz_data = np.load(data_str)\n",
    "    return npz_data[\"XYZ\"], npz_data[\"S\"], float(npz_data[\"T_slot\"]), float(npz_data[\"lambda_\"]), npz_data[\"src_model\"]"
   ]
  },
  {
   "cell_type": "code",
   "execution_count": 28,
   "outputs": [],
   "source": [
    "antenna_positions, cov, timeslot_durations, wavelength, transmitter_positions = load_data(real_data_1)"
   ],
   "metadata": {
    "collapsed": false
   }
  },
  {
   "cell_type": "code",
   "execution_count": 29,
   "metadata": {
    "collapsed": false
   },
   "outputs": [],
   "source": [
    "plt.plot(antenna_positions[:,0],\n",
    "         antenna_positions[:,1],\n",
    "         'bo',\n",
    "         transmitter_positions[:,0],\n",
    "         transmitter_positions[:,1],\n",
    "         'ro'\n",
    "         )\n",
    "plt.show()"
   ]
  },
  {
   "cell_type": "markdown",
   "metadata": {
    "collapsed": false
   },
   "source": [
    "## MUSIC for DOA test"
   ]
  },
  {
   "cell_type": "code",
   "execution_count": 30,
   "metadata": {
    "collapsed": false
   },
   "outputs": [],
   "source": [
    "# Parameters for MUSIC\n",
    "\n",
    "resolution = 0.15\n",
    "time_t = 0"
   ]
  },
  {
   "cell_type": "code",
   "execution_count": 31,
   "metadata": {},
   "outputs": [],
   "source": [
    "def plot_music_estimation(antenna_positions, cov, wavelength, transmitter_positions, nb_doas, time_t, resolution):\n",
    "    doas, _, _, psd, thetas = music_algorithm(cov[time_t], antenna_positions, wavelength, nb_doas, resolution=resolution)\n",
    "    thetas *= np.pi/180\n",
    "    print(doas)\n",
    "    plt.polar(list(map(cartesian_to_arg,transmitter_positions)), np.ones(len(transmitter_positions)), \"go\", thetas, psd/np.max(psd), '-k')\n",
    "    plt.show()"
   ]
  },
  {
   "cell_type": "code",
   "execution_count": 32,
   "metadata": {},
   "outputs": [],
   "source": [
    "antenna_positions, cov, timeslot_durations, wavelength, transmitter_positions = load_data(real_data_1)\n",
    "\n",
    "plt.plot(antenna_positions[:,0],\n",
    "         antenna_positions[:,1],\n",
    "         'bo',\n",
    "         transmitter_positions[:,0],\n",
    "         transmitter_positions[:,1],\n",
    "         'ro'\n",
    "         )\n",
    "plt.show()\n",
    "\n",
    "print(\"Dataset I\")\n",
    "plot_music_estimation(antenna_positions, cov, wavelength, transmitter_positions, 13, time_t, resolution)"
   ]
  },
  {
   "cell_type": "code",
   "execution_count": 33,
   "metadata": {},
   "outputs": [],
   "source": [
    "antenna_positions, cov, timeslot_durations, wavelength, transmitter_positions = load_data(real_data_2)\n",
    "plt.plot(antenna_positions[:,0],\n",
    "         antenna_positions[:,1],\n",
    "         'bo',\n",
    "         transmitter_positions[:,0],\n",
    "         transmitter_positions[:,1],\n",
    "         'ro'\n",
    "         )\n",
    "plt.show()\n",
    "print(\"Dataset 2\")\n",
    "plot_music_estimation(antenna_positions, cov, wavelength, transmitter_positions, 7, time_t, resolution)"
   ]
  },
  {
   "cell_type": "markdown",
   "metadata": {
    "collapsed": false
   },
   "source": [
    "## Matched beamforming test"
   ]
  },
  {
   "cell_type": "code",
   "execution_count": 34,
   "metadata": {
    "collapsed": false
   },
   "outputs": [],
   "source": [
    "angle = 224.25\n",
    "angle = angle * np.pi/180\n",
    "r0 = np.array([np.cos(angle), np.sin(angle)])\n",
    "b_gains, ts = matched_beam(antenna_positions, wavelength, r0)"
   ]
  },
  {
   "cell_type": "code",
   "execution_count": 35,
   "metadata": {
    "collapsed": false
   },
   "outputs": [],
   "source": [
    "plt.polar(ts, b_gains, '-k')\n",
    "plt.show()"
   ]
  },
  {
   "cell_type": "code",
   "execution_count": 36,
   "metadata": {},
   "outputs": [],
   "source": [
    "antenna_positions, cov, timeslot_durations, wavelength, transmitter_positions = load_data(real_data_1)\n",
    "# 7271317.527537093 for dataset 1\n",
    "# 6872221.912682234 for dataset 2"
   ]
  },
  {
   "cell_type": "code",
   "execution_count": 37,
   "metadata": {
    "collapsed": false
   },
   "outputs": [],
   "source": [
    "average_throughput(matched_beam, antenna_positions, wavelength, transmitter_positions)"
   ]
  },
  {
   "cell_type": "code",
   "execution_count": 38,
   "metadata": {
    "collapsed": false
   },
   "outputs": [],
   "source": [
    "antenna_positions, cov, timeslot_durations, wavelength, transmitter_positions = load_data(real_data_2)"
   ]
  },
  {
   "cell_type": "code",
   "execution_count": 39,
   "metadata": {
    "collapsed": false
   },
   "outputs": [],
   "source": [
    "average_throughput(matched_beam, antenna_positions, wavelength, transmitter_positions)"
   ]
  },
  {
   "cell_type": "code",
   "execution_count": 40,
   "metadata": {
    "collapsed": false
   },
   "outputs": [],
   "source": [
    "b_gains, ts = matched_beam(antenna_positions, wavelength, r0)\n",
    "plt.polar(ts, b_gains, '-k')\n",
    "plt.show()"
   ]
  },
  {
   "cell_type": "code",
   "execution_count": 41,
   "metadata": {
    "collapsed": false
   },
   "outputs": [],
   "source": [
    "average_throughput(matched_beam, antenna_positions, wavelength, transmitter_positions)"
   ]
  },
  {
   "cell_type": "markdown",
   "source": [
    "### Using MUSIC to estimate DOAs, dataset 2"
   ],
   "metadata": {
    "collapsed": false
   }
  },
  {
   "cell_type": "code",
   "execution_count": 42,
   "metadata": {
    "collapsed": false
   },
   "outputs": [],
   "source": [
    "doas, _, _, _, _ = music_algorithm(cov[time_t], antenna_positions, wavelength, 7, resolution=resolution)\n",
    "doas = [np.array([np.cos(t), np.sin(t)]) for t in doas]"
   ]
  },
  {
   "cell_type": "code",
   "execution_count": 43,
   "metadata": {
    "collapsed": false
   },
   "outputs": [],
   "source": [
    "average_throughput(matched_beam, antenna_positions, wavelength, doas)"
   ]
  },
  {
   "cell_type": "code",
   "execution_count": 43,
   "outputs": [],
   "source": [],
   "metadata": {
    "collapsed": false
   }
  }
 ],
 "metadata": {
  "interpreter": {
   "hash": "916dbcbb3f70747c44a77c7bcd40155683ae19c65e1c03b4aa3499c5328201f1"
  },
  "kernelspec": {
   "display_name": "Python 3.10.6 64-bit",
   "language": "python",
   "name": "python3"
  },
  "language_info": {
   "codemirror_mode": {
    "name": "ipython",
    "version": 3
   },
   "file_extension": ".py",
   "mimetype": "text/x-python",
   "name": "python",
   "nbconvert_exporter": "python",
   "pygments_lexer": "ipython3",
   "version": "3.10.6"
  }
 },
 "nbformat": 4,
 "nbformat_minor": 0
}
